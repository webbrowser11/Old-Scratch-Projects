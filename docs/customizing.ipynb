{
 "cells": [
  {
   "cell_type": "markdown",
   "metadata": {},
   "source": [
    "# Customizing the project\n",
    "First lets look at the full code, shown below:"
   ]
  },
  {
   "cell_type": "code",
   "execution_count": null,
   "metadata": {},
   "outputs": [],
   "source": [
    "import requests\n",
    "\n",
    "projectID = 100\n",
    "\n",
    "while True:\n",
    "    res = requests.get(f\"https://api.scratch.mit.edu/projects/{projectID}\")\n",
    "    if res.ok:\n",
    "        print(f\"{res.json()[\"title\"]} (https://scratch.mit.edu/projects/{projectID})\")\n",
    "    else:\n",
    "        print(f\"{projectID} is not real\")\n",
    "    projectID += 1"
   ]
  },
  {
   "cell_type": "markdown",
   "metadata": {},
   "source": [
    "# Customizing the code\n",
    "Here are the imports this is not to be cutomized, **UNLESS NEEDED**:"
   ]
  },
  {
   "cell_type": "code",
   "execution_count": null,
   "metadata": {},
   "outputs": [],
   "source": [
    "# imports\n",
    "import requests"
   ]
  },
  {
   "cell_type": "markdown",
   "metadata": {},
   "source": [
    "Below is the starting project id, if you want to start at the 2000 url point, set this to: `2000`"
   ]
  },
  {
   "cell_type": "code",
   "execution_count": null,
   "metadata": {},
   "outputs": [],
   "source": [
    "projectID = 100"
   ]
  },
  {
   "cell_type": "markdown",
   "metadata": {},
   "source": [
    "None Of the following code needs to be changed, unless you want to mess with the inner workings, or it is needed for your implementation of the code."
   ]
  },
  {
   "cell_type": "code",
   "execution_count": null,
   "metadata": {},
   "outputs": [],
   "source": [
    "while True:\n",
    "    res = requests.get(f\"https://api.scratch.mit.edu/projects/{projectID}\")\n",
    "    if res.ok:\n",
    "        print(f\"{res.json()[\"title\"]} (https://scratch.mit.edu/projects/{projectID})\")\n",
    "    else:\n",
    "        print(f\"{projectID} is not real\")\n",
    "    projectID += 1"
   ]
  }
 ],
 "metadata": {
  "language_info": {
   "name": "python"
  }
 },
 "nbformat": 4,
 "nbformat_minor": 2
}
